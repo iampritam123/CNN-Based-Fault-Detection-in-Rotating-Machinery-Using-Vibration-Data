{
  "cells": [
    {
      "cell_type": "markdown",
      "metadata": {
        "id": "3HtJRK_AXpw0"
      },
      "source": [
        "\n",
        "# CNN-Based Fault Detection in Rotating Machinery Using Vibration Data"
      ]
    },
    {
      "cell_type": "code",
      "execution_count": null,
      "metadata": {
        "id": "9Bzfk70TXpxC"
      },
      "outputs": [],
      "source": [
        "import pandas as pd\n",
        "import numpy as np\n",
        "import tensorflow as tf\n",
        "import scipy as sc\n",
        "import zipfile\n",
        "from matplotlib import pyplot as plt\n",
        "from matplotlib.colors import LogNorm"
      ]
    },
    {
      "cell_type": "markdown",
      "metadata": {
        "id": "Wdd3KSxrXpxG"
      },
      "source": [
        "## Reading Measurement Data and Preprocessing"
      ]
    },
    {
      "cell_type": "code",
      "execution_count": null,
      "metadata": {
        "id": "RyYnBw0gYfag"
      },
      "outputs": [],
      "source": [
        "use_reference_models = True"
      ]
    },
    {
      "cell_type": "code",
      "execution_count": null,
      "metadata": {
        "id": "vE47x2TeeWRX"
      },
      "outputs": [],
      "source": [
        "import os"
      ]
    },
    {
      "cell_type": "code",
      "execution_count": null,
      "metadata": {
        "id": "s8pmdUqrXyjO"
      },
      "outputs": [],
      "source": [
        "model_path = 'reference'"
      ]
    },
    {
      "cell_type": "code",
      "execution_count": null,
      "metadata": {
        "colab": {
          "base_uri": "https://localhost:8080/",
          "height": 423
        },
        "id": "6uzuJG_kX3k9",
        "outputId": "8cf972e0-65a9-4c02-e0b7-e8bc4f30b77f"
      },
      "outputs": [
        {
          "data": {
            "text/html": [
              "<div>\n",
              "<style scoped>\n",
              "    .dataframe tbody tr th:only-of-type {\n",
              "        vertical-align: middle;\n",
              "    }\n",
              "\n",
              "    .dataframe tbody tr th {\n",
              "        vertical-align: top;\n",
              "    }\n",
              "\n",
              "    .dataframe thead th {\n",
              "        text-align: right;\n",
              "    }\n",
              "</style>\n",
              "<table border=\"1\" class=\"dataframe\">\n",
              "  <thead>\n",
              "    <tr style=\"text-align: right;\">\n",
              "      <th></th>\n",
              "      <th>V_in</th>\n",
              "      <th>Measured_RPM</th>\n",
              "      <th>Vibration_1</th>\n",
              "      <th>Vibration_2</th>\n",
              "      <th>Vibration_3</th>\n",
              "    </tr>\n",
              "  </thead>\n",
              "  <tbody>\n",
              "    <tr>\n",
              "      <th>0</th>\n",
              "      <td>0.0</td>\n",
              "      <td>28.610235</td>\n",
              "      <td>0.000000</td>\n",
              "      <td>0.000000</td>\n",
              "      <td>0.000000</td>\n",
              "    </tr>\n",
              "    <tr>\n",
              "      <th>1</th>\n",
              "      <td>0.0</td>\n",
              "      <td>28.610235</td>\n",
              "      <td>0.000000</td>\n",
              "      <td>0.000000</td>\n",
              "      <td>0.000000</td>\n",
              "    </tr>\n",
              "    <tr>\n",
              "      <th>2</th>\n",
              "      <td>0.0</td>\n",
              "      <td>28.610235</td>\n",
              "      <td>0.000000</td>\n",
              "      <td>0.000000</td>\n",
              "      <td>0.000000</td>\n",
              "    </tr>\n",
              "    <tr>\n",
              "      <th>3</th>\n",
              "      <td>0.0</td>\n",
              "      <td>28.610235</td>\n",
              "      <td>0.000000</td>\n",
              "      <td>0.000000</td>\n",
              "      <td>0.000000</td>\n",
              "    </tr>\n",
              "    <tr>\n",
              "      <th>4</th>\n",
              "      <td>0.0</td>\n",
              "      <td>28.610235</td>\n",
              "      <td>0.000000</td>\n",
              "      <td>0.000000</td>\n",
              "      <td>0.000000</td>\n",
              "    </tr>\n",
              "    <tr>\n",
              "      <th>...</th>\n",
              "      <td>...</td>\n",
              "      <td>...</td>\n",
              "      <td>...</td>\n",
              "      <td>...</td>\n",
              "      <td>...</td>\n",
              "    </tr>\n",
              "    <tr>\n",
              "      <th>26423290</th>\n",
              "      <td>2.0</td>\n",
              "      <td>643.383380</td>\n",
              "      <td>0.001339</td>\n",
              "      <td>0.000769</td>\n",
              "      <td>0.003015</td>\n",
              "    </tr>\n",
              "    <tr>\n",
              "      <th>26423291</th>\n",
              "      <td>2.0</td>\n",
              "      <td>643.383380</td>\n",
              "      <td>0.001261</td>\n",
              "      <td>0.000952</td>\n",
              "      <td>0.003138</td>\n",
              "    </tr>\n",
              "    <tr>\n",
              "      <th>26423292</th>\n",
              "      <td>2.0</td>\n",
              "      <td>643.383380</td>\n",
              "      <td>0.000966</td>\n",
              "      <td>0.000895</td>\n",
              "      <td>0.003057</td>\n",
              "    </tr>\n",
              "    <tr>\n",
              "      <th>26423293</th>\n",
              "      <td>2.0</td>\n",
              "      <td>643.383380</td>\n",
              "      <td>0.000976</td>\n",
              "      <td>0.000744</td>\n",
              "      <td>0.002798</td>\n",
              "    </tr>\n",
              "    <tr>\n",
              "      <th>26423294</th>\n",
              "      <td>2.0</td>\n",
              "      <td>643.383380</td>\n",
              "      <td>0.000740</td>\n",
              "      <td>0.000880</td>\n",
              "      <td>0.002686</td>\n",
              "    </tr>\n",
              "  </tbody>\n",
              "</table>\n",
              "<p>26423295 rows × 5 columns</p>\n",
              "</div>"
            ],
            "text/plain": [
              "          V_in  Measured_RPM  Vibration_1  Vibration_2  Vibration_3\n",
              "0          0.0     28.610235     0.000000     0.000000     0.000000\n",
              "1          0.0     28.610235     0.000000     0.000000     0.000000\n",
              "2          0.0     28.610235     0.000000     0.000000     0.000000\n",
              "3          0.0     28.610235     0.000000     0.000000     0.000000\n",
              "4          0.0     28.610235     0.000000     0.000000     0.000000\n",
              "...        ...           ...          ...          ...          ...\n",
              "26423290   2.0    643.383380     0.001339     0.000769     0.003015\n",
              "26423291   2.0    643.383380     0.001261     0.000952     0.003138\n",
              "26423292   2.0    643.383380     0.000966     0.000895     0.003057\n",
              "26423293   2.0    643.383380     0.000976     0.000744     0.002798\n",
              "26423294   2.0    643.383380     0.000740     0.000880     0.002686\n",
              "\n",
              "[26423295 rows x 5 columns]"
            ]
          },
          "execution_count": 17,
          "metadata": {},
          "output_type": "execute_result"
        }
      ],
      "source": [
        "import pandas as pd\n",
        "data0D = pd.read_csv(\"0D.csv\")\n",
        "data0D"
      ]
    },
    {
      "cell_type": "code",
      "execution_count": null,
      "metadata": {
        "id": "9gtNQ0TqXpxJ"
      },
      "outputs": [],
      "source": [
        "data0E = pd.read_csv('0E.csv')\n",
        "data1D = pd.read_csv('1D.csv')\n",
        "data1E = pd.read_csv('1E.csv')\n",
        "data2D = pd.read_csv('2D.csv')\n",
        "data2E = pd.read_csv('2E.csv')\n",
        "data3D = pd.read_csv('3D.csv')\n",
        "data3E = pd.read_csv('3E.csv')\n",
        "data4D = pd.read_csv('4D.csv')\n",
        "data4E = pd.read_csv('4E.csv')"
      ]
    },
    {
      "cell_type": "code",
      "execution_count": null,
      "metadata": {
        "colab": {
          "base_uri": "https://localhost:8080/",
          "height": 423
        },
        "id": "U7DJ3MA0YVMF",
        "outputId": "af0009fc-eb1c-4d81-b193-572f5c9fea57"
      },
      "outputs": [
        {
          "data": {
            "text/html": [
              "<div>\n",
              "<style scoped>\n",
              "    .dataframe tbody tr th:only-of-type {\n",
              "        vertical-align: middle;\n",
              "    }\n",
              "\n",
              "    .dataframe tbody tr th {\n",
              "        vertical-align: top;\n",
              "    }\n",
              "\n",
              "    .dataframe thead th {\n",
              "        text-align: right;\n",
              "    }\n",
              "</style>\n",
              "<table border=\"1\" class=\"dataframe\">\n",
              "  <thead>\n",
              "    <tr style=\"text-align: right;\">\n",
              "      <th></th>\n",
              "      <th>V_in</th>\n",
              "      <th>Measured_RPM</th>\n",
              "      <th>Vibration_1</th>\n",
              "      <th>Vibration_2</th>\n",
              "      <th>Vibration_3</th>\n",
              "    </tr>\n",
              "  </thead>\n",
              "  <tbody>\n",
              "    <tr>\n",
              "      <th>0</th>\n",
              "      <td>0.0</td>\n",
              "      <td>28.610235</td>\n",
              "      <td>0.000000</td>\n",
              "      <td>0.000000</td>\n",
              "      <td>0.000000</td>\n",
              "    </tr>\n",
              "    <tr>\n",
              "      <th>1</th>\n",
              "      <td>0.0</td>\n",
              "      <td>28.610235</td>\n",
              "      <td>0.000000</td>\n",
              "      <td>0.000000</td>\n",
              "      <td>0.000000</td>\n",
              "    </tr>\n",
              "    <tr>\n",
              "      <th>2</th>\n",
              "      <td>0.0</td>\n",
              "      <td>28.610235</td>\n",
              "      <td>0.000000</td>\n",
              "      <td>0.000000</td>\n",
              "      <td>0.000000</td>\n",
              "    </tr>\n",
              "    <tr>\n",
              "      <th>3</th>\n",
              "      <td>0.0</td>\n",
              "      <td>28.610235</td>\n",
              "      <td>0.000000</td>\n",
              "      <td>0.000000</td>\n",
              "      <td>0.000000</td>\n",
              "    </tr>\n",
              "    <tr>\n",
              "      <th>4</th>\n",
              "      <td>0.0</td>\n",
              "      <td>28.610235</td>\n",
              "      <td>0.000000</td>\n",
              "      <td>0.000000</td>\n",
              "      <td>0.000000</td>\n",
              "    </tr>\n",
              "    <tr>\n",
              "      <th>...</th>\n",
              "      <td>...</td>\n",
              "      <td>...</td>\n",
              "      <td>...</td>\n",
              "      <td>...</td>\n",
              "      <td>...</td>\n",
              "    </tr>\n",
              "    <tr>\n",
              "      <th>6914042</th>\n",
              "      <td>4.0</td>\n",
              "      <td>1080.458200</td>\n",
              "      <td>0.002939</td>\n",
              "      <td>-0.003955</td>\n",
              "      <td>0.002704</td>\n",
              "    </tr>\n",
              "    <tr>\n",
              "      <th>6914043</th>\n",
              "      <td>4.0</td>\n",
              "      <td>1080.458200</td>\n",
              "      <td>-0.000345</td>\n",
              "      <td>0.002913</td>\n",
              "      <td>0.000757</td>\n",
              "    </tr>\n",
              "    <tr>\n",
              "      <th>6914044</th>\n",
              "      <td>4.0</td>\n",
              "      <td>1080.458200</td>\n",
              "      <td>-0.003408</td>\n",
              "      <td>0.002537</td>\n",
              "      <td>-0.001725</td>\n",
              "    </tr>\n",
              "    <tr>\n",
              "      <th>6914045</th>\n",
              "      <td>4.0</td>\n",
              "      <td>1080.458200</td>\n",
              "      <td>-0.004315</td>\n",
              "      <td>-0.002156</td>\n",
              "      <td>-0.000253</td>\n",
              "    </tr>\n",
              "    <tr>\n",
              "      <th>6914046</th>\n",
              "      <td>4.0</td>\n",
              "      <td>1080.458200</td>\n",
              "      <td>-0.006704</td>\n",
              "      <td>-0.000309</td>\n",
              "      <td>0.002162</td>\n",
              "    </tr>\n",
              "  </tbody>\n",
              "</table>\n",
              "<p>6914047 rows × 5 columns</p>\n",
              "</div>"
            ],
            "text/plain": [
              "         V_in  Measured_RPM  Vibration_1  Vibration_2  Vibration_3\n",
              "0         0.0     28.610235     0.000000     0.000000     0.000000\n",
              "1         0.0     28.610235     0.000000     0.000000     0.000000\n",
              "2         0.0     28.610235     0.000000     0.000000     0.000000\n",
              "3         0.0     28.610235     0.000000     0.000000     0.000000\n",
              "4         0.0     28.610235     0.000000     0.000000     0.000000\n",
              "...       ...           ...          ...          ...          ...\n",
              "6914042   4.0   1080.458200     0.002939    -0.003955     0.002704\n",
              "6914043   4.0   1080.458200    -0.000345     0.002913     0.000757\n",
              "6914044   4.0   1080.458200    -0.003408     0.002537    -0.001725\n",
              "6914045   4.0   1080.458200    -0.004315    -0.002156    -0.000253\n",
              "6914046   4.0   1080.458200    -0.006704    -0.000309     0.002162\n",
              "\n",
              "[6914047 rows x 5 columns]"
            ]
          },
          "execution_count": 19,
          "metadata": {},
          "output_type": "execute_result"
        }
      ],
      "source": [
        "data4E"
      ]
    },
    {
      "cell_type": "code",
      "execution_count": null,
      "metadata": {
        "id": "P4cjGztyXpxM"
      },
      "outputs": [],
      "source": [
        "skip = 50000\n",
        "data0D = data0D.iloc[skip:,:]\n",
        "data1D = data1D.iloc[skip:,:]\n",
        "data2D = data2D.iloc[skip:,:]\n",
        "data3D = data3D.iloc[skip:,:]\n",
        "data4D = data4D.iloc[skip:,:]\n",
        "data0E = data0E.iloc[skip:,:]\n",
        "data1E = data1E.iloc[skip:,:]\n",
        "data2E = data2E.iloc[skip:,:]\n",
        "data3E = data3E.iloc[skip:,:]\n",
        "data4E = data4E.iloc[skip:,:]"
      ]
    },
    {
      "cell_type": "markdown",
      "metadata": {
        "id": "7sDgJlc-XpxO"
      },
      "source": [
        "At the moment only the first vibration sensor **Vibration_1** is used for the analysis. All four data streams may need to be included in the future."
      ]
    },
    {
      "cell_type": "code",
      "execution_count": null,
      "metadata": {
        "id": "NgLjFGGRXpxP"
      },
      "outputs": [],
      "source": [
        "labels = {'no_unbalance':0, 'unbalance':1}\n",
        "sensor = 'Vibration_1'\n",
        "samples_per_second = 4096\n",
        "seconds_per_analysis = 1.0\n",
        "window = int(samples_per_second*seconds_per_analysis)\n",
        "\n",
        "def get_features(data, label):\n",
        "    n = int(np.floor(len(data)/window))\n",
        "    data = data[:int(n)*window]\n",
        "    X = data.values.reshape((n, window))\n",
        "    y = np.ones(n)*labels[label]\n",
        "    return X,y\n",
        "\n",
        "X0,y0 = get_features(data0D[sensor], \"no_unbalance\")\n",
        "X1,y1 = get_features(data1D[sensor], \"unbalance\")\n",
        "X2,y2 = get_features(data2D[sensor], \"unbalance\")\n",
        "X3,y3 = get_features(data3D[sensor], \"unbalance\")\n",
        "X4,y4 = get_features(data4D[sensor], \"unbalance\")\n",
        "X=np.concatenate([X0, X1, X2, X3, X4])\n",
        "y=np.concatenate([y0, y1, y2, y3, y4])\n",
        "\n",
        "X0_val, y0_val = get_features(data0E[sensor], \"no_unbalance\")\n",
        "X1_val, y1_val = get_features(data1E[sensor], \"unbalance\")\n",
        "X2_val, y2_val = get_features(data2E[sensor], \"unbalance\")\n",
        "X3_val, y3_val = get_features(data3E[sensor], \"unbalance\")\n",
        "X4_val, y4_val = get_features(data4E[sensor], \"unbalance\")\n",
        "X_val=np.concatenate([X0_val, X1_val, X2_val, X3_val, X4_val])\n",
        "y_val=np.concatenate([y0_val, y1_val, y2_val, y3_val, y4_val])"
      ]
    },
    {
      "cell_type": "markdown",
      "metadata": {
        "id": "Yrfm1oQ2XpxS"
      },
      "source": [
        "Now the dataset for training X contains 32142 samples with 4096 values each as well as the associated label information y with 32142 labels (one label per sample). The dataset for validating the trained model X_val contains 8420 samples plus the labels y_val accordingly."
      ]
    },
    {
      "cell_type": "code",
      "execution_count": null,
      "metadata": {
        "colab": {
          "base_uri": "https://localhost:8080/"
        },
        "id": "4g9LAVSBXpxT",
        "outputId": "b4040125-1315-4b84-ea61-65b77b6ac952"
      },
      "outputs": [
        {
          "name": "stdout",
          "output_type": "stream",
          "text": [
            "(32166, 4096) (32166,) (8359, 4096) (8359,)\n"
          ]
        }
      ],
      "source": [
        "print(X.shape, y.shape, X_val.shape, y_val.shape)"
      ]
    },
    {
      "cell_type": "markdown",
      "metadata": {
        "id": "OKNvxWemXpxX"
      },
      "source": [
        "## Train-Test-Split\n",
        "\n",
        "The dataset for training (X,y) is splitted into two subsets (X_train,y_train) and (X_test,y_test)."
      ]
    },
    {
      "cell_type": "code",
      "execution_count": null,
      "metadata": {
        "id": "1RFIqGM5XpxY"
      },
      "outputs": [],
      "source": [
        "from sklearn.model_selection import train_test_split\n",
        "train_test_ratio = 0.9\n",
        "X_train, X_test, y_train, y_test = train_test_split(X,y, test_size = 1-train_test_ratio, random_state = 0)\n",
        "X_train = np.reshape(X_train, (X_train.shape[0], X_train.shape[1], 1))\n",
        "X_test = np.reshape(X_test, (X_test.shape[0], X_test.shape[1], 1))\n",
        "X_val = np.reshape(X_val, (X_val.shape[0], X_val.shape[1], 1))"
      ]
    },
    {
      "cell_type": "code",
      "execution_count": null,
      "metadata": {
        "colab": {
          "base_uri": "https://localhost:8080/"
        },
        "id": "cwKa4lklXpxa",
        "outputId": "b1a4db8a-402f-4672-e610-9587331b2ae7"
      },
      "outputs": [
        {
          "name": "stdout",
          "output_type": "stream",
          "text": [
            "(28949, 4096, 1) (28949,) (3217, 4096, 1) (3217,)\n"
          ]
        }
      ],
      "source": [
        "print(X_train.shape, y_train.shape, X_test.shape, y_test.shape)"
      ]
    },
    {
      "cell_type": "markdown",
      "metadata": {
        "id": "oBl2xEctXpxb"
      },
      "source": [
        "## Convolutional Neural Net (CNN)"
      ]
    },
    {
      "cell_type": "markdown",
      "metadata": {
        "id": "6fTgMOmGXpxc"
      },
      "source": [
        "## Test with Different Layer Numbers"
      ]
    },
    {
      "cell_type": "code",
      "execution_count": null,
      "metadata": {
        "id": "9ZncXk20Xpxd"
      },
      "outputs": [],
      "source": [
        "from tensorflow.keras.models import Sequential, load_model, Model\n",
        "from tensorflow.keras.layers import BatchNormalization,LeakyReLU,Dense,Dropout\n",
        "from tensorflow.keras.layers import Input,Conv1D,MaxPooling1D,Flatten,ReLU\n",
        "from tensorflow.keras.optimizers import Adam\n",
        "from tensorflow.keras.callbacks import ModelCheckpoint\n",
        "from tensorflow.keras.regularizers import l1_l2\n",
        "\n",
        "weight_for_0 = len(y)/(2*len(y[y==0]))\n",
        "weight_for_1 = len(y)/(2*len(y[y==1]))\n",
        "class_weight = {0: weight_for_0, 1: weight_for_1}\n",
        "\n",
        "def train_models(n_conv_layers):\n",
        "    #n_conv_layers = 3 # [1,2,3,4]\n",
        "    n_dense_units = 128\n",
        "    dropout_rate = 0.0\n",
        "    use_batch_normalization = True # [True, False]\n",
        "    filter_size = 9 # [5,7,9]\n",
        "    learning_rate = 0.0001\n",
        "    n_epochs = 100 # [50,100,200]\n",
        "\n",
        "    X_in = Input(shape=(X_train.shape[1],1))\n",
        "    x = X_in\n",
        "    for j in range(n_conv_layers):\n",
        "        print(j)\n",
        "        x = Conv1D(filters=(j+1)*10,\n",
        "                   kernel_size=filter_size,\n",
        "                   strides=1,\n",
        "                   activation='linear',\n",
        "                   kernel_initializer='he_uniform')(x)\n",
        "        if use_batch_normalization:\n",
        "            x = BatchNormalization()(x)\n",
        "        x = LeakyReLU(alpha=0.05)(x)\n",
        "        x = MaxPooling1D(pool_size=5, strides=2)(x)\n",
        "    x = Flatten()(x)\n",
        "    x = Dense(units = n_dense_units, activation='linear')(x)\n",
        "    x = ReLU()(x)\n",
        "    x = Dropout(rate=dropout_rate)(x)\n",
        "    X_out = Dense(units = 1, activation = 'sigmoid')(x)\n",
        "    classifier = Model(X_in, X_out)\n",
        "    classifier.summary()\n",
        "\n",
        "    best_model_filepath = f\"{model_path}/cnn_{n_conv_layers}_layers.h5\"\n",
        "    checkpoint = ModelCheckpoint(best_model_filepath, monitor='val_loss',\n",
        "                                 verbose=1, save_best_only=True, mode='min')\n",
        "\n",
        "    classifier.compile(optimizer = Adam(lr=learning_rate), loss = 'binary_crossentropy',\n",
        "                       metrics = ['accuracy'])\n",
        "\n",
        "    classifier.fit(X_train, y_train, epochs = n_epochs, batch_size = 64,\n",
        "                   validation_data=(X_test, y_test), callbacks=[checkpoint],\n",
        "                   class_weight=class_weight)\n",
        "    classifier = load_model(best_model_filepath)\n",
        "    score = classifier.evaluate(X_val, y_val)"
      ]
    },
    {
      "cell_type": "code",
      "execution_count": null,
      "metadata": {
        "id": "x84zIGuPXpxg",
        "scrolled": false
      },
      "outputs": [],
      "source": [
        "if not use_reference_models:\n",
        "    for i in range(1,5):\n",
        "        train_models(i)"
      ]
    },
    {
      "cell_type": "markdown",
      "metadata": {
        "id": "Z9Tk_ENyXpxh"
      },
      "source": [
        "#### Evaluation"
      ]
    },
    {
      "cell_type": "code",
      "execution_count": null,
      "metadata": {
        "id": "i5q8wxWDXpxi"
      },
      "outputs": [],
      "source": [
        "X_val_1 = X_val[:len(y0_val),:,:]\n",
        "X_val_2 = X_val[len(y0_val):len(y0_val)+len(y1_val),:,:]\n",
        "X_val_3 = X_val[len(y0_val)+len(y1_val):len(y0_val)+len(y1_val)+\n",
        "                len(y2_val),:,:]\n",
        "X_val_4 = X_val[len(y0_val)+len(y1_val)+len(y2_val):len(y0_val)+\n",
        "                len(y1_val)+len(y2_val)+len(y3_val),:,:]\n",
        "X_val_5 = X_val[len(y0_val)+len(y1_val)+len(y2_val)+len(y3_val):len(y0_val)+\n",
        "                len(y1_val)+len(y2_val)+len(y3_val)+len(y4_val),:,:]"
      ]
    },
    {
      "cell_type": "code",
      "execution_count": null,
      "metadata": {
        "colab": {
          "base_uri": "https://localhost:8080/"
        },
        "id": "COyTiTvaXpxj",
        "outputId": "6a2086d7-c5ff-48c7-9c27-37b25cc2e960"
      },
      "outputs": [
        {
          "name": "stdout",
          "output_type": "stream",
          "text": [
            "53/53 [==============================] - 3s 6ms/step - loss: 0.7369 - accuracy: 0.7443\n",
            "53/53 [==============================] - 0s 5ms/step - loss: 0.0497 - accuracy: 0.9815\n",
            "53/53 [==============================] - 0s 5ms/step - loss: 0.0909 - accuracy: 0.9617\n",
            "53/53 [==============================] - 0s 5ms/step - loss: 0.0259 - accuracy: 0.9916\n",
            "53/53 [==============================] - 0s 5ms/step - loss: 0.0038 - accuracy: 0.9982\n",
            "262/262 [==============================] - 2s 6ms/step - loss: 0.1813 - accuracy: 0.9355\n",
            "53/53 [==============================] - 1s 9ms/step - loss: 0.0589 - accuracy: 0.9832\n",
            "53/53 [==============================] - 0s 8ms/step - loss: 0.3932 - accuracy: 0.8846\n",
            "53/53 [==============================] - 0s 7ms/step - loss: 1.2903 - accuracy: 0.6836\n",
            "53/53 [==============================] - 0s 8ms/step - loss: 0.0249 - accuracy: 0.9916\n",
            "53/53 [==============================] - 0s 8ms/step - loss: 1.0724e-07 - accuracy: 1.0000\n",
            "262/262 [==============================] - 2s 7ms/step - loss: 0.3531 - accuracy: 0.9087\n",
            "53/53 [==============================] - 1s 10ms/step - loss: 0.0444 - accuracy: 0.9880\n",
            "53/53 [==============================] - 1s 10ms/step - loss: 0.2956 - accuracy: 0.9516\n",
            "53/53 [==============================] - 1s 10ms/step - loss: 0.1172 - accuracy: 0.9712\n",
            "53/53 [==============================] - 1s 10ms/step - loss: 0.0334 - accuracy: 0.9922\n",
            "53/53 [==============================] - 1s 10ms/step - loss: 1.5265e-16 - accuracy: 1.0000\n",
            "262/262 [==============================] - 3s 10ms/step - loss: 0.0981 - accuracy: 0.9806\n",
            "53/53 [==============================] - 1s 12ms/step - loss: 0.0518 - accuracy: 0.9922\n",
            "53/53 [==============================] - 1s 12ms/step - loss: 0.5719 - accuracy: 0.9414\n",
            "53/53 [==============================] - 1s 11ms/step - loss: 0.4952 - accuracy: 0.9479\n",
            "53/53 [==============================] - 1s 12ms/step - loss: 1.0026e-05 - accuracy: 1.0000\n",
            "53/53 [==============================] - 1s 17ms/step - loss: 6.1037e-24 - accuracy: 1.0000\n",
            "262/262 [==============================] - 4s 13ms/step - loss: 0.2237 - accuracy: 0.9763\n"
          ]
        }
      ],
      "source": [
        "accuracies = []\n",
        "accuracies_all = []\n",
        "for layer_n in range(1,5):\n",
        "\n",
        "    filepath = f\"{model_path}/cnn_{layer_n}_layers.h5\"\n",
        "    model_i = load_model(filepath)\n",
        "\n",
        "    val_acc_1 = model_i.evaluate(X_val_1, y0_val)[1]\n",
        "    val_acc_2 = model_i.evaluate(X_val_2, y1_val)[1]\n",
        "    val_acc_3 = model_i.evaluate(X_val_3, y2_val)[1]\n",
        "    val_acc_4 = model_i.evaluate(X_val_4, y3_val)[1]\n",
        "    val_acc_5 = model_i.evaluate(X_val_5, y4_val)[1]\n",
        "    val_acc_all = model_i.evaluate(X_val, y_val)[1]\n",
        "    accuracies_layer_i = [val_acc_1, val_acc_2, val_acc_3, val_acc_4, val_acc_5]\n",
        "    accuracies.append(accuracies_layer_i)\n",
        "    accuracies_all.append(val_acc_all)\n",
        "\n",
        "accuracies = np.array(accuracies)\n",
        "accuracies_all = np.array(accuracies_all)"
      ]
    },
    {
      "cell_type": "code",
      "execution_count": null,
      "metadata": {
        "colab": {
          "base_uri": "https://localhost:8080/"
        },
        "id": "3T1gl4f7Xpxk",
        "outputId": "41a450bb-9d24-4f1e-b5a1-b1b02f6bb2c9"
      },
      "outputs": [
        {
          "data": {
            "text/plain": [
              "array([0.93551862, 0.90872115, 0.98061967, 0.97631294])"
            ]
          },
          "execution_count": 37,
          "metadata": {},
          "output_type": "execute_result"
        }
      ],
      "source": [
        "accuracies_all"
      ]
    }
  ],
  "metadata": {
    "colab": {
      "provenance": []
    },
    "kernelspec": {
      "display_name": "Python 3 (ipykernel)",
      "language": "python",
      "name": "python3"
    },
    "language_info": {
      "codemirror_mode": {
        "name": "ipython",
        "version": 3
      },
      "file_extension": ".py",
      "mimetype": "text/x-python",
      "name": "python",
      "nbconvert_exporter": "python",
      "pygments_lexer": "ipython3",
      "version": "3.9.16"
    }
  },
  "nbformat": 4,
  "nbformat_minor": 0
}
